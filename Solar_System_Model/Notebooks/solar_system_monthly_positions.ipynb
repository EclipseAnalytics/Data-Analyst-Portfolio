{
 "cells": [
  {
   "cell_type": "code",
   "execution_count": 1,
   "id": "21545585",
   "metadata": {},
   "outputs": [
    {
     "name": "stdout",
     "output_type": "stream",
     "text": [
      "Requirement already satisfied: astropy in c:\\users\\richa\\anaconda3\\lib\\site-packages (6.0.0)\n",
      "Requirement already satisfied: pandas in c:\\users\\richa\\anaconda3\\lib\\site-packages (1.5.3)\n",
      "Requirement already satisfied: numpy<2,>=1.22 in c:\\users\\richa\\anaconda3\\lib\\site-packages (from astropy) (1.23.5)\n",
      "Requirement already satisfied: packaging>=19.0 in c:\\users\\richa\\anaconda3\\lib\\site-packages (from astropy) (22.0)\n",
      "Requirement already satisfied: pyerfa>=2.0 in c:\\users\\richa\\anaconda3\\lib\\site-packages (from astropy) (2.0.0)\n",
      "Requirement already satisfied: astropy-iers-data>=0.2023.10.30.0.29.53 in c:\\users\\richa\\anaconda3\\lib\\site-packages (from astropy) (0.2024.3.25.0.29.50)\n",
      "Requirement already satisfied: PyYAML>=3.13 in c:\\users\\richa\\anaconda3\\lib\\site-packages (from astropy) (6.0)\n",
      "Requirement already satisfied: pytz>=2020.1 in c:\\users\\richa\\anaconda3\\lib\\site-packages (from pandas) (2022.7)\n",
      "Requirement already satisfied: python-dateutil>=2.8.1 in c:\\users\\richa\\anaconda3\\lib\\site-packages (from pandas) (2.8.2)\n",
      "Requirement already satisfied: six>=1.5 in c:\\users\\richa\\anaconda3\\lib\\site-packages (from python-dateutil>=2.8.1->pandas) (1.16.0)\n"
     ]
    }
   ],
   "source": [
    "!pip install astropy pandas"
   ]
  },
  {
   "cell_type": "code",
   "execution_count": 2,
   "id": "2836b483",
   "metadata": {},
   "outputs": [],
   "source": [
    "from astropy.time import Time\n",
    "from astropy.coordinates import solar_system_ephemeris, get_body_barycentric\n",
    "import pandas as pd"
   ]
  },
  {
   "cell_type": "code",
   "execution_count": 3,
   "id": "c93c40f9",
   "metadata": {},
   "outputs": [
    {
     "name": "stderr",
     "output_type": "stream",
     "text": [
      "C:\\Users\\richa\\anaconda3\\lib\\site-packages\\erfa\\core.py:154: ErfaWarning: ERFA function \"dtf2d\" yielded 4009 of \"dubious year (Note 6)\"\n",
      "  warnings.warn('ERFA function \"{}\" yielded {}'.format(func_name, wmsg),\n"
     ]
    }
   ],
   "source": [
    "# Time range from 1800 to 2200, on the first day of each month\n",
    "times = Time(pd.date_range('1800-01-01', '2201-01-01', freq='MS'))\n",
    "\n",
    "# Celestial bodies including the Sun and all planets\n",
    "bodies = ['Sun', 'Mercury', 'Venus', 'Earth', 'Mars', 'Jupiter', 'Saturn', 'Uranus', 'Neptune', 'Pluto']"
   ]
  },
  {
   "cell_type": "code",
   "execution_count": 4,
   "id": "8854668a",
   "metadata": {},
   "outputs": [
    {
     "name": "stderr",
     "output_type": "stream",
     "text": [
      "C:\\Users\\richa\\anaconda3\\lib\\site-packages\\erfa\\core.py:154: ErfaWarning: ERFA function \"d2dtf\" yielded 1 of \"dubious year (Note 5)\"\n",
      "  warnings.warn('ERFA function \"{}\" yielded {}'.format(func_name, wmsg),\n",
      "C:\\Users\\richa\\anaconda3\\lib\\site-packages\\erfa\\core.py:154: ErfaWarning: ERFA function \"utctai\" yielded 1 of \"dubious year (Note 3)\"\n",
      "  warnings.warn('ERFA function \"{}\" yielded {}'.format(func_name, wmsg),\n",
      "C:\\Users\\richa\\anaconda3\\lib\\site-packages\\erfa\\core.py:154: ErfaWarning: ERFA function \"taiutc\" yielded 1 of \"dubious year (Note 4)\"\n",
      "  warnings.warn('ERFA function \"{}\" yielded {}'.format(func_name, wmsg),\n"
     ]
    }
   ],
   "source": [
    "# Set the ephemeris to DE430, as it is readily available and covers the required date range\n",
    "with solar_system_ephemeris.set('de430'):\n",
    "    data = []\n",
    "    for time in times:\n",
    "        # Format date to ensure compatibility, especially for dates before 1900\n",
    "        date_str = '{:04d}-{:02d}-{:02d}'.format(time.datetime.year, time.datetime.month, time.datetime.day)\n",
    "        for body in bodies:\n",
    "            if body == 'Sun':\n",
    "                x, y, z = 0.0, 0.0, 0.0  # Sun is at the center\n",
    "            else:\n",
    "                pos = get_body_barycentric(body.lower(), time)\n",
    "                x, y, z = pos.x.value, pos.y.value, pos.z.value\n",
    "            data.append({'Date': date_str, 'Name': body, 'X': x, 'Y': y, 'Z': z})\n",
    "\n",
    "# Convert collected data into a DataFrame\n",
    "df = pd.DataFrame(data)\n"
   ]
  },
  {
   "cell_type": "code",
   "execution_count": 5,
   "id": "8cfca823",
   "metadata": {},
   "outputs": [],
   "source": [
    "df.to_csv('Solar_System_XYZ_Positions.csv', index=False)"
   ]
  },
  {
   "cell_type": "code",
   "execution_count": null,
   "id": "97942787",
   "metadata": {},
   "outputs": [],
   "source": []
  }
 ],
 "metadata": {
  "kernelspec": {
   "display_name": "Python 3 (ipykernel)",
   "language": "python",
   "name": "python3"
  },
  "language_info": {
   "codemirror_mode": {
    "name": "ipython",
    "version": 3
   },
   "file_extension": ".py",
   "mimetype": "text/x-python",
   "name": "python",
   "nbconvert_exporter": "python",
   "pygments_lexer": "ipython3",
   "version": "3.10.9"
  }
 },
 "nbformat": 4,
 "nbformat_minor": 5
}
